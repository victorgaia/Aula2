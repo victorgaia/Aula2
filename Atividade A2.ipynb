{
 "cells": [
  {
   "cell_type": "markdown",
   "metadata": {},
   "source": [
    "Índice"
   ]
  },
  {
   "cell_type": "markdown",
   "metadata": {},
   "source": [
    "- [Descrição da Atividade](#Descrição-da-Atividade)"
   ]
  },
  {
   "cell_type": "code",
   "execution_count": null,
   "metadata": {
    "collapsed": true
   },
   "outputs": [],
   "source": [
    "#pathFileImages = 'C:/Users/claud/OneDrive/Documentos/Figuras Matemática Computacional/Erros/'\n",
    "\n",
    "pathFileImages = 'C:/Users/claud/Dropbox/RepoGit/disciplina/temp/MatematicaComputacionalUFPA/Noções Básicas sobre Erros/Figuras Representação/'\n",
    "\n",
    "\n",
    "from IPython.display import Image\n",
    "from IPython.display import HTML\n",
    "import matplotlib.pyplot as plt\n",
    "import numpy as np\n",
    "import numpy.random as npr\n",
    "import math"
   ]
  },
  {
   "cell_type": "markdown",
   "metadata": {},
   "source": [
    "# Descrição da Atividade"
   ]
  },
  {
   "cell_type": "code",
   "execution_count": 66,
   "metadata": {},
   "outputs": [
    {
     "name": "stdout",
     "output_type": "stream",
     "text": [
      "por truncamento\n",
      "0.125*10**1\n",
      "0.100*10**2\n",
      "-0.238*10**3\n",
      "0.271*10**1\n",
      "0.000\n",
      "0.71823582*10**6 nao pode ser representado pela máquina\n"
     ]
    }
   ],
   "source": [
    "print('por truncamento')\n",
    "print('0.125*10**1')\n",
    "print('0.100*10**2')\n",
    "print('-0.238*10**3')\n",
    "print('0.271*10**1')\n",
    "print('0.000')\n",
    "print('0.71823582*10**6 nao pode ser representado pela máquina')"
   ]
  },
  {
   "cell_type": "code",
   "execution_count": 65,
   "metadata": {},
   "outputs": [
    {
     "name": "stdout",
     "output_type": "stream",
     "text": [
      "por arrendondamento\n",
      "0.125*10**1\n",
      "0.101*10**2\n",
      "-0.238*10**3\n",
      "0.271*10**1\n",
      "0.001\n",
      "0.71823582*10**6 nao pode ser representado pela máquina\n"
     ]
    }
   ],
   "source": [
    "print('por arrendondamento')\n",
    "print('0.125*10**1')\n",
    "print('0.101*10**2')\n",
    "print('-0.238*10**3')\n",
    "print('0.271*10**1')\n",
    "print('0.001')\n",
    "print('0.71823582*10**6 nao pode ser representado pela máquina')"
   ]
  }
 ],
 "metadata": {
  "kernelspec": {
   "display_name": "Python 3",
   "language": "python",
   "name": "python3"
  },
  "language_info": {
   "codemirror_mode": {
    "name": "ipython",
    "version": 3
   },
   "file_extension": ".py",
   "mimetype": "text/x-python",
   "name": "python",
   "nbconvert_exporter": "python",
   "pygments_lexer": "ipython3",
   "version": "3.6.2"
  }
 },
 "nbformat": 4,
 "nbformat_minor": 2
}
