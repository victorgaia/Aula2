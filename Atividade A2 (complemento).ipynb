{
 "cells": [
  {
   "cell_type": "code",
   "execution_count": 2,
   "metadata": {},
   "outputs": [],
   "source": [
    "#pathFileImages = 'C:/Users/claud/OneDrive/Documentos/Figuras Matemática Computacional/Erros/'\n",
    "\n",
    "pathFileImages = 'C:/Users/claud/Dropbox/RepoGit/disciplina/temp/MatematicaComputacionalUFPA/Noções Básicas sobre Erros/Figuras Representação/'\n",
    "\n",
    "\n",
    "from IPython.display import Image\n",
    "from IPython.display import HTML\n",
    "import matplotlib.pyplot as plt\n",
    "import numpy as np\n",
    "import numpy.random as npr\n",
    "import math\n",
    "import sys"
   ]
  },
  {
   "cell_type": "code",
   "execution_count": 4,
   "metadata": {},
   "outputs": [
    {
     "name": "stdout",
     "output_type": "stream",
     "text": [
      "A base em binário  0b1010\n",
      "Valor em binário a ser convertindo é n =  0.109375\n",
      "[ 1.  0.  9.  3.  7.  5.]\n"
     ]
    }
   ],
   "source": [
    "def Binfrac(n):\n",
    "    r=np.array([],dtype=int)\n",
    "    print('A base em binário ', bin(10))\n",
    "    n = 2**-4 + 2**-5 + 2**-6\n",
    "    print( 'Valor em binário a ser convertindo é n = ', n)\n",
    "    while(n>0):\n",
    "        n=n*10\n",
    "        fracInt = math.modf(n)\n",
    "        n = fracInt[0]\n",
    "        r=np.append(r,fracInt[1])\n",
    "    return r\n",
    "print(Binfrac(0.000111))"
   ]
  },
  {
   "cell_type": "code",
   "execution_count": 6,
   "metadata": {},
   "outputs": [
    {
     "name": "stdout",
     "output_type": "stream",
     "text": [
      "1.25 = 0.125 *10^ 1\n",
      "1\n"
     ]
    }
   ],
   "source": [
    "def maq(n):\n",
    "    r=n\n",
    "    i=0\n",
    "    fracInt=math.modf(r)\n",
    "    while(fracInt[1]!=0):\n",
    "        fracInt=math.modf(r)\n",
    "        if (fracInt[1]!=0):\n",
    "            r=r/10\n",
    "            i=i+1;\n",
    "    print(n,\"=\",round(r,3),\"*10^\",i)\n",
    "    if((i<5)&(i>-5)&(round(r,3)==r)):\n",
    "        return 1\n",
    "    else:\n",
    "        return 0\n",
    "print(maq(1.25))"
   ]
  }
 ],
 "metadata": {
  "kernelspec": {
   "display_name": "Python 3",
   "language": "python",
   "name": "python3"
  },
  "language_info": {
   "codemirror_mode": {
    "name": "ipython",
    "version": 3
   },
   "file_extension": ".py",
   "mimetype": "text/x-python",
   "name": "python",
   "nbconvert_exporter": "python",
   "pygments_lexer": "ipython3",
   "version": "3.6.2"
  }
 },
 "nbformat": 4,
 "nbformat_minor": 2
}
